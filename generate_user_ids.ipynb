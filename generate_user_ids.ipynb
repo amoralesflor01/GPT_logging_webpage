{
 "cells": [
  {
   "cell_type": "code",
   "execution_count": 2,
   "metadata": {},
   "outputs": [
    {
     "name": "stdout",
     "output_type": "stream",
     "text": [
      "Total number of user IDs generated: 10\n",
      "Even ID numbers: 5\n",
      "Odd ID numbers: 5\n",
      "user_ids = ['7926068', '4974123', '6759496', '8483881', '1448006', '1245123', '6008293', '5818218', '6740057', '8887228']\n"
     ]
    }
   ],
   "source": [
    "import random\n",
    "\n",
    "def generate_random_numbers(digits, user_ids):\n",
    "    if digits <= 0 or user_ids <= 0:\n",
    "        raise ValueError(\"Digits and user_ids must be positive integers.\")\n",
    "    \n",
    "    if user_ids % 2 != 0:\n",
    "        raise ValueError(\"The total number of user IDs must be even to split evenly into half even and half odd.\")\n",
    "    \n",
    "    # Ensure that we can generate the required user_ids of numbers with the given constraints\n",
    "    max_possible = 9 * (10 ** (digits - 1)) // 2\n",
    "    if user_ids > max_possible * 2:\n",
    "        raise ValueError(\"Not enough unique numbers possible with the given constraints.\")\n",
    "    \n",
    "    even_numbers = set()\n",
    "    odd_numbers = set()\n",
    "\n",
    "    # Generate unique even and odd numbers until the desired count is met\n",
    "    while len(even_numbers) < user_ids // 2:\n",
    "        num = random.randint(10**(digits-1), 10**digits - 1)\n",
    "        if num % 2 == 0:\n",
    "            even_numbers.add(num)\n",
    "\n",
    "    while len(odd_numbers) < user_ids // 2:\n",
    "        num = random.randint(10**(digits-1), 10**digits - 1)\n",
    "        if num % 2 != 0:\n",
    "            odd_numbers.add(num)\n",
    "    \n",
    "    # Combine the even and odd numbers\n",
    "    final_numbers = list(even_numbers | odd_numbers)\n",
    "    random.shuffle(final_numbers)\n",
    "\n",
    "    # Prepare the output format\n",
    "    user_ids_list = [str(num) for num in final_numbers]\n",
    "    \n",
    "    # Print summary\n",
    "    print(f\"Total number of user IDs generated: {len(final_numbers)}\")\n",
    "    print(f\"Even ID numbers: {len(even_numbers)}\")\n",
    "    print(f\"Odd ID numbers: {len(odd_numbers)}\")\n",
    "    print(\"user_ids =\", user_ids_list)\n",
    "\n",
    "# Enter the desired amount of digits in User ID and the amount of User IDs you wish to generate\n",
    "generate_random_numbers(digits=7, user_ids=10)\n"
   ]
  },
  {
   "cell_type": "code",
   "execution_count": null,
   "metadata": {},
   "outputs": [],
   "source": []
  }
 ],
 "metadata": {
  "kernelspec": {
   "display_name": "chatbot",
   "language": "python",
   "name": "python3"
  },
  "language_info": {
   "codemirror_mode": {
    "name": "ipython",
    "version": 3
   },
   "file_extension": ".py",
   "mimetype": "text/x-python",
   "name": "python",
   "nbconvert_exporter": "python",
   "pygments_lexer": "ipython3",
   "version": "3.10.15"
  }
 },
 "nbformat": 4,
 "nbformat_minor": 2
}
